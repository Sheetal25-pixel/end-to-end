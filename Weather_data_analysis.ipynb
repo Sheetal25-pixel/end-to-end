{
  "nbformat": 4,
  "nbformat_minor": 0,
  "metadata": {
    "colab": {
      "provenance": [],
      "authorship_tag": "ABX9TyNGNhKfArscYP0ccZRHWuwk",
      "include_colab_link": true
    },
    "kernelspec": {
      "name": "python3",
      "display_name": "Python 3"
    },
    "language_info": {
      "name": "python"
    }
  },
  "cells": [
    {
      "cell_type": "markdown",
      "metadata": {
        "id": "view-in-github",
        "colab_type": "text"
      },
      "source": [
        "<a href=\"https://colab.research.google.com/github/Sheetal25-pixel/end-to-end/blob/main/Weather_data_analysis.ipynb\" target=\"_parent\"><img src=\"https://colab.research.google.com/assets/colab-badge.svg\" alt=\"Open In Colab\"/></a>"
      ]
    },
    {
      "cell_type": "code",
      "execution_count": 1,
      "metadata": {
        "colab": {
          "base_uri": "https://localhost:8080/"
        },
        "id": "IRpiL0okq81n",
        "outputId": "806cb25c-195b-4f88-8559-d43c293a3c41"
      },
      "outputs": [
        {
          "output_type": "stream",
          "name": "stdout",
          "text": [
            "Requirement already satisfied: requests in /usr/local/lib/python3.10/dist-packages (2.32.3)\n",
            "Requirement already satisfied: charset-normalizer<4,>=2 in /usr/local/lib/python3.10/dist-packages (from requests) (3.4.0)\n",
            "Requirement already satisfied: idna<4,>=2.5 in /usr/local/lib/python3.10/dist-packages (from requests) (3.10)\n",
            "Requirement already satisfied: urllib3<3,>=1.21.1 in /usr/local/lib/python3.10/dist-packages (from requests) (2.2.3)\n",
            "Requirement already satisfied: certifi>=2017.4.17 in /usr/local/lib/python3.10/dist-packages (from requests) (2024.8.30)\n",
            "Requirement already satisfied: beautifulsoup4 in /usr/local/lib/python3.10/dist-packages (4.12.3)\n",
            "Requirement already satisfied: soupsieve>1.2 in /usr/local/lib/python3.10/dist-packages (from beautifulsoup4) (2.6)\n"
          ]
        }
      ],
      "source": [
        "!pip install requests\n",
        "!pip install beautifulsoup4"
      ]
    },
    {
      "cell_type": "markdown",
      "source": [
        "Step 1: Import the requests and bs4 library"
      ],
      "metadata": {
        "id": "4kFhi1Wir4jo"
      }
    },
    {
      "cell_type": "code",
      "source": [
        "# importing the library\n",
        "import requests\n",
        "from bs4 import BeautifulSoup"
      ],
      "metadata": {
        "id": "46uoGatRrZiA"
      },
      "execution_count": 2,
      "outputs": []
    },
    {
      "cell_type": "markdown",
      "source": [
        "Step 2: Create a URL with the entered city name in it and pass it to the get function."
      ],
      "metadata": {
        "id": "0K2HN-nMr6Mk"
      }
    },
    {
      "cell_type": "code",
      "source": [
        "# enter city name\n",
        "city = \"lucknow\"\n",
        "\n",
        "# create url\n",
        "url = \"https://www.google.com/search?q=\"+\"weather\"+city\n",
        "\n",
        "# requests instance\n",
        "html = requests.get(url).content\n",
        "\n",
        "# getting raw data\n",
        "soup = BeautifulSoup(html, 'html.parser')"
      ],
      "metadata": {
        "id": "3SFa2wKWrZlA"
      },
      "execution_count": 3,
      "outputs": []
    },
    {
      "cell_type": "markdown",
      "source": [
        "Step 3: Soup will return a heap of data with HTML tags. So, a chunk of data has been shown below from which we will get all the necessary data with the help of the find function and passing the tag name and class name."
      ],
      "metadata": {
        "id": "pgyCIhUOtU53"
      }
    },
    {
      "cell_type": "code",
      "source": [
        "# get the temperature\n",
        "temp = soup.find('div', attrs={'class': 'BNeawe iBp4i AP7Wnd'}).text\n",
        "\n",
        "# this contains time and sky description\n",
        "str = soup.find('div', attrs={'class': 'BNeawe tAd8D AP7Wnd'}).text\n",
        "\n",
        "# format the data\n",
        "data = str.split('\\n')\n",
        "time = data[0]\n",
        "sky = data[1]"
      ],
      "metadata": {
        "id": "lpCU6H1FrZoK"
      },
      "execution_count": 4,
      "outputs": []
    },
    {
      "cell_type": "markdown",
      "source": [
        "Step 4: Here list1 contains all the div tags with a particular class name and index 5 of this list has all other required data."
      ],
      "metadata": {
        "id": "3RRvbuisuIEn"
      }
    },
    {
      "cell_type": "code",
      "source": [
        "# list having all div tags having particular class name\n",
        "listdiv = soup.findAll('div', attrs={'class': 'BNeawe s3v9rd AP7Wnd'})\n",
        "\n",
        "# particular list with required data\n",
        "strd = listdiv[5].text\n",
        "\n",
        "# formatting the string\n",
        "pos = strd.find('Wind')\n",
        "other_data = strd[pos:]"
      ],
      "metadata": {
        "id": "uVRvv6MxrZqx"
      },
      "execution_count": 5,
      "outputs": []
    },
    {
      "cell_type": "markdown",
      "source": [
        "Step 5: Printing all the data"
      ],
      "metadata": {
        "id": "AZP_imt3uW2q"
      }
    },
    {
      "cell_type": "code",
      "source": [
        "# printing all the data\n",
        "print(\"Temperature is\", temp)\n",
        "print(\"Time: \", time)\n",
        "print(\"Sky Description: \", sky)\n",
        "print(other_data)"
      ],
      "metadata": {
        "colab": {
          "base_uri": "https://localhost:8080/"
        },
        "id": "MOs-PlklrZtn",
        "outputId": "cadf27a3-7ca6-4249-9b33-6d776206f30f"
      },
      "execution_count": 6,
      "outputs": [
        {
          "output_type": "stream",
          "name": "stdout",
          "text": [
            "Temperature is 57°F\n",
            "Time:  Friday 9:16 PM\n",
            "Sky Description:  Clear\n",
            ".\n"
          ]
        }
      ]
    },
    {
      "cell_type": "code",
      "source": [
        "# Importing necessary libraries\n",
        "import requests\n",
        "from bs4 import BeautifulSoup\n",
        "\n",
        "# Enter city name\n",
        "city = \"lucknow\"\n",
        "\n",
        "# Creating URL and making requests instance\n",
        "url = \"https://www.google.com/search?q=\" + \"weather\" + city\n",
        "html = requests.get(url).content\n",
        "\n",
        "# Getting raw data using BeautifulSoup\n",
        "soup = BeautifulSoup(html, 'html.parser')\n",
        "\n",
        "# Extracting the temperature\n",
        "temp = soup.find('div', attrs={'class': 'BNeawe iBp4i AP7Wnd'}).text\n",
        "\n",
        "# Extracting the time and sky description\n",
        "str_ = soup.find('div', attrs={'class': 'BNeawe tAd8D AP7Wnd'}).text\n",
        "data = str_.split('\\n')\n",
        "time = data[0]\n",
        "sky = data[1]\n",
        "\n",
        "# Getting all div tags with the specific class name\n",
        "listdiv = soup.findAll('div', attrs={'class': 'BNeawe s3v9rd AP7Wnd'})\n",
        "\n",
        "# Extracting other required data\n",
        "strd = listdiv[5].text\n",
        "pos = strd.find('Wind')\n",
        "other_data = strd[pos:]\n",
        "\n",
        "# Printing the extracted weather data\n",
        "print(\"Temperature is:\", temp)\n",
        "print(\"Time:\", time)\n",
        "print(\"Sky Description:\", sky)\n",
        "print(other_data)"
      ],
      "metadata": {
        "colab": {
          "base_uri": "https://localhost:8080/"
        },
        "id": "HSyLlRChrZw_",
        "outputId": "3387fb5c-c7b7-4961-922b-a741925adc3f"
      },
      "execution_count": 7,
      "outputs": [
        {
          "output_type": "stream",
          "name": "stdout",
          "text": [
            "Temperature is: 56°F\n",
            "Time: Friday 9:24 PM\n",
            "Sky Description: Clear\n",
            "Wind (mph). Temp (°F). 39. 43. 47. 51. 55. 59. 63. 67.\n"
          ]
        }
      ]
    },
    {
      "cell_type": "code",
      "source": [
        "pip install requests"
      ],
      "metadata": {
        "colab": {
          "base_uri": "https://localhost:8080/"
        },
        "id": "AbkDmhmArZ4Q",
        "outputId": "0d1ed654-d126-4e79-9bd9-ac44703a319b"
      },
      "execution_count": 8,
      "outputs": [
        {
          "output_type": "stream",
          "name": "stdout",
          "text": [
            "Requirement already satisfied: requests in /usr/local/lib/python3.10/dist-packages (2.32.3)\n",
            "Requirement already satisfied: charset-normalizer<4,>=2 in /usr/local/lib/python3.10/dist-packages (from requests) (3.4.0)\n",
            "Requirement already satisfied: idna<4,>=2.5 in /usr/local/lib/python3.10/dist-packages (from requests) (3.10)\n",
            "Requirement already satisfied: urllib3<3,>=1.21.1 in /usr/local/lib/python3.10/dist-packages (from requests) (2.2.3)\n",
            "Requirement already satisfied: certifi>=2017.4.17 in /usr/local/lib/python3.10/dist-packages (from requests) (2024.8.30)\n"
          ]
        }
      ]
    },
    {
      "cell_type": "markdown",
      "source": [
        "Approach:\n",
        "\n",
        "Import the requests module\n",
        "\n",
        "Sending request to get the IP Location Information\n",
        "\n",
        "Extracting the location in JSON format\n",
        "\n",
        "Printing the location extracted\n",
        "\n",
        "Passing the city name and retrieving the weather data of the city\n",
        "\n",
        "Printing the output"
      ],
      "metadata": {
        "id": "tejL21tJuuwt"
      }
    },
    {
      "cell_type": "code",
      "source": [
        "# Importing the requests module\n",
        "import requests\n",
        "\n",
        "# Sending request to get the IP location information\n",
        "res = requests.get('https://ipinfo.io/')\n",
        "data = res.json()  # Receiving the response in JSON format\n",
        "\n",
        "# Extracting the location of the city from the response\n",
        "citydata = data['city']\n",
        "print(\"Current Location:\", citydata)\n",
        "\n",
        "# Passing the city name to the URL to get weather data\n",
        "url = 'https://wttr.in/{}'.format(citydata)\n",
        "res = requests.get(url)\n",
        "\n",
        "# Printing the schematic weather details of the city\n",
        "print(res.text)"
      ],
      "metadata": {
        "colab": {
          "base_uri": "https://localhost:8080/"
        },
        "id": "AViPa1VTrZ7n",
        "outputId": "e7919752-34b9-4c3a-ca25-08b0a9fbec9e"
      },
      "execution_count": 9,
      "outputs": [
        {
          "output_type": "stream",
          "name": "stdout",
          "text": [
            "Current Location: Washington\n",
            "Weather report: Washington\n",
            "\n",
            "                Overcast\n",
            "  \u001b[38;5;240;1m     .--.    \u001b[0m \u001b[38;5;049m+37\u001b[0m(\u001b[38;5;049m35\u001b[0m) °F\u001b[0m     \n",
            "  \u001b[38;5;240;1m  .-(    ).  \u001b[0m \u001b[1m↓\u001b[0m \u001b[38;5;118m3\u001b[0m mph\u001b[0m        \n",
            "  \u001b[38;5;240;1m (___.__)__) \u001b[0m 9 mi\u001b[0m           \n",
            "                0.0 in\u001b[0m         \n",
            "                                                       ┌─────────────┐                                                       \n",
            "┌──────────────────────────────┬───────────────────────┤  Fri 13 Dec ├───────────────────────┬──────────────────────────────┐\n",
            "│            Morning           │             Noon      └──────┬──────┘     Evening           │             Night            │\n",
            "├──────────────────────────────┼──────────────────────────────┼──────────────────────────────┼──────────────────────────────┤\n",
            "│ \u001b[38;5;226m    \\   /    \u001b[0m Sunny          │ \u001b[38;5;226m   \\  /\u001b[0m       Partly Cloudy  │               Overcast       │               Overcast       │\n",
            "│ \u001b[38;5;226m     .-.     \u001b[0m \u001b[38;5;051m30\u001b[0m °F\u001b[0m          │ \u001b[38;5;226m _ /\"\"\u001b[38;5;250m.-.    \u001b[0m \u001b[38;5;049m37\u001b[0m °F\u001b[0m          │ \u001b[38;5;240;1m     .--.    \u001b[0m \u001b[38;5;048m+39\u001b[0m(\u001b[38;5;049m35\u001b[0m) °F\u001b[0m     │ \u001b[38;5;240;1m     .--.    \u001b[0m \u001b[38;5;049m+35\u001b[0m(\u001b[38;5;051m30\u001b[0m) °F\u001b[0m     │\n",
            "│ \u001b[38;5;226m  ― (   ) ―  \u001b[0m \u001b[1m↓\u001b[0m \u001b[38;5;118m3\u001b[0m-\u001b[38;5;154m4\u001b[0m mph\u001b[0m      │ \u001b[38;5;226m   \\_\u001b[38;5;250m(   ).  \u001b[0m \u001b[1m↓\u001b[0m \u001b[38;5;118m3\u001b[0m mph\u001b[0m        │ \u001b[38;5;240;1m  .-(    ).  \u001b[0m \u001b[1m↓\u001b[0m \u001b[38;5;154m4\u001b[0m-\u001b[38;5;190m6\u001b[0m mph\u001b[0m      │ \u001b[38;5;240;1m  .-(    ).  \u001b[0m \u001b[1m↙\u001b[0m \u001b[38;5;154m4\u001b[0m-\u001b[38;5;190m7\u001b[0m mph\u001b[0m      │\n",
            "│ \u001b[38;5;226m     `-’     \u001b[0m 6 mi\u001b[0m           │ \u001b[38;5;226m   /\u001b[38;5;250m(___(__) \u001b[0m 6 mi\u001b[0m           │ \u001b[38;5;240;1m (___.__)__) \u001b[0m 6 mi\u001b[0m           │ \u001b[38;5;240;1m (___.__)__) \u001b[0m 6 mi\u001b[0m           │\n",
            "│ \u001b[38;5;226m    /   \\    \u001b[0m 0.0 in | 0%\u001b[0m    │               0.0 in | 0%\u001b[0m    │               0.0 in | 0%\u001b[0m    │               0.0 in | 0%\u001b[0m    │\n",
            "└──────────────────────────────┴──────────────────────────────┴──────────────────────────────┴──────────────────────────────┘\n",
            "                                                       ┌─────────────┐                                                       \n",
            "┌──────────────────────────────┬───────────────────────┤  Sat 14 Dec ├───────────────────────┬──────────────────────────────┐\n",
            "│            Morning           │             Noon      └──────┬──────┘     Evening           │             Night            │\n",
            "├──────────────────────────────┼──────────────────────────────┼──────────────────────────────┼──────────────────────────────┤\n",
            "│               Overcast       │               Overcast       │               Cloudy         │               Cloudy         │\n",
            "│ \u001b[38;5;240;1m     .--.    \u001b[0m \u001b[38;5;051m28\u001b[0m(\u001b[38;5;045m23\u001b[0m) °F\u001b[0m      │ \u001b[38;5;240;1m     .--.    \u001b[0m \u001b[38;5;050m32\u001b[0m(\u001b[38;5;051m26\u001b[0m) °F\u001b[0m      │ \u001b[38;5;250m     .--.    \u001b[0m \u001b[38;5;050m+33\u001b[0m(\u001b[38;5;051m30\u001b[0m) °F\u001b[0m     │ \u001b[38;5;250m     .--.    \u001b[0m \u001b[38;5;050m32\u001b[0m(\u001b[38;5;051m28\u001b[0m) °F\u001b[0m      │\n",
            "│ \u001b[38;5;240;1m  .-(    ).  \u001b[0m \u001b[1m↙\u001b[0m \u001b[38;5;154m5\u001b[0m-\u001b[38;5;226m8\u001b[0m mph\u001b[0m      │ \u001b[38;5;240;1m  .-(    ).  \u001b[0m \u001b[1m←\u001b[0m \u001b[38;5;154m5\u001b[0m-\u001b[38;5;190m6\u001b[0m mph\u001b[0m      │ \u001b[38;5;250m  .-(    ).  \u001b[0m \u001b[1m←\u001b[0m \u001b[38;5;154m5\u001b[0m-\u001b[38;5;226m8\u001b[0m mph\u001b[0m      │ \u001b[38;5;250m  .-(    ).  \u001b[0m \u001b[1m←\u001b[0m \u001b[38;5;154m4\u001b[0m-\u001b[38;5;226m8\u001b[0m mph\u001b[0m      │\n",
            "│ \u001b[38;5;240;1m (___.__)__) \u001b[0m 6 mi\u001b[0m           │ \u001b[38;5;240;1m (___.__)__) \u001b[0m 6 mi\u001b[0m           │ \u001b[38;5;250m (___.__)__) \u001b[0m 6 mi\u001b[0m           │ \u001b[38;5;250m (___.__)__) \u001b[0m 6 mi\u001b[0m           │\n",
            "│               0.0 in | 0%\u001b[0m    │               0.0 in | 0%\u001b[0m    │               0.0 in | 0%\u001b[0m    │               0.0 in | 0%\u001b[0m    │\n",
            "└──────────────────────────────┴──────────────────────────────┴──────────────────────────────┴──────────────────────────────┘\n",
            "                                                       ┌─────────────┐                                                       \n",
            "┌──────────────────────────────┬───────────────────────┤  Sun 15 Dec ├───────────────────────┬──────────────────────────────┐\n",
            "│            Morning           │             Noon      └──────┬──────┘     Evening           │             Night            │\n",
            "├──────────────────────────────┼──────────────────────────────┼──────────────────────────────┼──────────────────────────────┤\n",
            "│ \u001b[38;5;226m   \\  /\u001b[0m       Partly Cloudy  │               Overcast       │               Cloudy         │               Overcast       │\n",
            "│ \u001b[38;5;226m _ /\"\"\u001b[38;5;250m.-.    \u001b[0m \u001b[38;5;050m32\u001b[0m(\u001b[38;5;051m26\u001b[0m) °F\u001b[0m      │ \u001b[38;5;240;1m     .--.    \u001b[0m \u001b[38;5;049m+37\u001b[0m(\u001b[38;5;050m32\u001b[0m) °F\u001b[0m     │ \u001b[38;5;250m     .--.    \u001b[0m \u001b[38;5;048m+41\u001b[0m(\u001b[38;5;049m37\u001b[0m) °F\u001b[0m     │ \u001b[38;5;240;1m     .--.    \u001b[0m \u001b[38;5;048m+41\u001b[0m(\u001b[38;5;049m35\u001b[0m) °F\u001b[0m     │\n",
            "│ \u001b[38;5;226m   \\_\u001b[38;5;250m(   ).  \u001b[0m \u001b[1m←\u001b[0m \u001b[38;5;190m6\u001b[0m-\u001b[38;5;226m9\u001b[0m mph\u001b[0m      │ \u001b[38;5;240;1m  .-(    ).  \u001b[0m \u001b[1m←\u001b[0m \u001b[38;5;190m6\u001b[0m-\u001b[38;5;226m8\u001b[0m mph\u001b[0m      │ \u001b[38;5;250m  .-(    ).  \u001b[0m \u001b[1m←\u001b[0m \u001b[38;5;154m4\u001b[0m-\u001b[38;5;226m8\u001b[0m mph\u001b[0m      │ \u001b[38;5;240;1m  .-(    ).  \u001b[0m \u001b[1m↖\u001b[0m \u001b[38;5;190m6\u001b[0m-\u001b[38;5;226m9\u001b[0m mph\u001b[0m      │\n",
            "│ \u001b[38;5;226m   /\u001b[38;5;250m(___(__) \u001b[0m 6 mi\u001b[0m           │ \u001b[38;5;240;1m (___.__)__) \u001b[0m 6 mi\u001b[0m           │ \u001b[38;5;250m (___.__)__) \u001b[0m 6 mi\u001b[0m           │ \u001b[38;5;240;1m (___.__)__) \u001b[0m 1 mi\u001b[0m           │\n",
            "│               0.0 in | 0%\u001b[0m    │               0.0 in | 0%\u001b[0m    │               0.0 in | 0%\u001b[0m    │               0.0 in | 0%\u001b[0m    │\n",
            "└──────────────────────────────┴──────────────────────────────┴──────────────────────────────┴──────────────────────────────┘\n",
            "Location: Washington, District of Columbia, United States of America [38.8949549,-77.0366455]\n",
            "\n",
            "Follow \u001b[46m\u001b[30m@igor_chubin\u001b[0m for wttr.in updates\n",
            "\n"
          ]
        }
      ]
    }
  ]
}