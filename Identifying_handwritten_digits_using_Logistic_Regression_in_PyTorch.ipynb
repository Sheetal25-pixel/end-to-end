{
  "nbformat": 4,
  "nbformat_minor": 0,
  "metadata": {
    "colab": {
      "provenance": [],
      "authorship_tag": "ABX9TyOb5ITOMOcvxFruKjJF1xDB",
      "include_colab_link": true
    },
    "kernelspec": {
      "name": "python3",
      "display_name": "Python 3"
    },
    "language_info": {
      "name": "python"
    }
  },
  "cells": [
    {
      "cell_type": "markdown",
      "metadata": {
        "id": "view-in-github",
        "colab_type": "text"
      },
      "source": [
        "<a href=\"https://colab.research.google.com/github/Sheetal25-pixel/end-to-end/blob/main/Identifying_handwritten_digits_using_Logistic_Regression_in_PyTorch.ipynb\" target=\"_parent\"><img src=\"https://colab.research.google.com/assets/colab-badge.svg\" alt=\"Open In Colab\"/></a>"
      ]
    },
    {
      "cell_type": "code",
      "execution_count": 1,
      "metadata": {
        "id": "er-xbfTD6ayt"
      },
      "outputs": [],
      "source": [
        "import torch\n",
        "import torch.nn as nn\n",
        "import torchvision.datasets as dsets\n",
        "import torchvision.transforms as transforms\n",
        "from torch.autograd import Variable"
      ]
    },
    {
      "cell_type": "code",
      "source": [
        "# Set the batch size\n",
        "batch_size = 64\n",
        "\n",
        "# MNIST Dataset (Images and Labels)\n",
        "train_dataset = dsets.MNIST(root ='./data',\n",
        "                            train = True,\n",
        "                            transform = transforms.ToTensor(),\n",
        "                            download = True)\n",
        "\n",
        "test_dataset = dsets.MNIST(root ='./data',\n",
        "                           train = False,\n",
        "                           transform = transforms.ToTensor())\n",
        "\n",
        "# Dataset Loader (Input Pipeline)\n",
        "train_loader = torch.utils.data.DataLoader(dataset = train_dataset,\n",
        "                                           batch_size = batch_size,\n",
        "                                           shuffle = True)\n",
        "\n",
        "test_loader = torch.utils.data.DataLoader(dataset = test_dataset,\n",
        "                                          batch_size = batch_size,\n",
        "                                          shuffle = False)\n",
        "\n",
        "# This code is modified by Susobhan Akhuli"
      ],
      "metadata": {
        "colab": {
          "base_uri": "https://localhost:8080/"
        },
        "id": "qXEJku3g6o-0",
        "outputId": "589c2665-5b6e-410a-c40e-c0086f7cf8ad"
      },
      "execution_count": 2,
      "outputs": [
        {
          "output_type": "stream",
          "name": "stdout",
          "text": [
            "Downloading http://yann.lecun.com/exdb/mnist/train-images-idx3-ubyte.gz\n",
            "Failed to download (trying next):\n",
            "HTTP Error 403: Forbidden\n",
            "\n",
            "Downloading https://ossci-datasets.s3.amazonaws.com/mnist/train-images-idx3-ubyte.gz\n",
            "Downloading https://ossci-datasets.s3.amazonaws.com/mnist/train-images-idx3-ubyte.gz to ./data/MNIST/raw/train-images-idx3-ubyte.gz\n"
          ]
        },
        {
          "output_type": "stream",
          "name": "stderr",
          "text": [
            "100%|██████████| 9.91M/9.91M [00:00<00:00, 42.0MB/s]\n"
          ]
        },
        {
          "output_type": "stream",
          "name": "stdout",
          "text": [
            "Extracting ./data/MNIST/raw/train-images-idx3-ubyte.gz to ./data/MNIST/raw\n",
            "\n",
            "Downloading http://yann.lecun.com/exdb/mnist/train-labels-idx1-ubyte.gz\n",
            "Failed to download (trying next):\n",
            "HTTP Error 403: Forbidden\n",
            "\n",
            "Downloading https://ossci-datasets.s3.amazonaws.com/mnist/train-labels-idx1-ubyte.gz\n",
            "Downloading https://ossci-datasets.s3.amazonaws.com/mnist/train-labels-idx1-ubyte.gz to ./data/MNIST/raw/train-labels-idx1-ubyte.gz\n"
          ]
        },
        {
          "output_type": "stream",
          "name": "stderr",
          "text": [
            "100%|██████████| 28.9k/28.9k [00:00<00:00, 1.25MB/s]\n"
          ]
        },
        {
          "output_type": "stream",
          "name": "stdout",
          "text": [
            "Extracting ./data/MNIST/raw/train-labels-idx1-ubyte.gz to ./data/MNIST/raw\n",
            "\n",
            "Downloading http://yann.lecun.com/exdb/mnist/t10k-images-idx3-ubyte.gz\n",
            "Failed to download (trying next):\n",
            "HTTP Error 403: Forbidden\n",
            "\n",
            "Downloading https://ossci-datasets.s3.amazonaws.com/mnist/t10k-images-idx3-ubyte.gz\n",
            "Downloading https://ossci-datasets.s3.amazonaws.com/mnist/t10k-images-idx3-ubyte.gz to ./data/MNIST/raw/t10k-images-idx3-ubyte.gz\n"
          ]
        },
        {
          "output_type": "stream",
          "name": "stderr",
          "text": [
            "100%|██████████| 1.65M/1.65M [00:00<00:00, 10.7MB/s]\n"
          ]
        },
        {
          "output_type": "stream",
          "name": "stdout",
          "text": [
            "Extracting ./data/MNIST/raw/t10k-images-idx3-ubyte.gz to ./data/MNIST/raw\n",
            "\n",
            "Downloading http://yann.lecun.com/exdb/mnist/t10k-labels-idx1-ubyte.gz\n",
            "Failed to download (trying next):\n",
            "HTTP Error 403: Forbidden\n",
            "\n",
            "Downloading https://ossci-datasets.s3.amazonaws.com/mnist/t10k-labels-idx1-ubyte.gz\n",
            "Downloading https://ossci-datasets.s3.amazonaws.com/mnist/t10k-labels-idx1-ubyte.gz to ./data/MNIST/raw/t10k-labels-idx1-ubyte.gz\n"
          ]
        },
        {
          "output_type": "stream",
          "name": "stderr",
          "text": [
            "100%|██████████| 4.54k/4.54k [00:00<00:00, 3.35MB/s]"
          ]
        },
        {
          "output_type": "stream",
          "name": "stdout",
          "text": [
            "Extracting ./data/MNIST/raw/t10k-labels-idx1-ubyte.gz to ./data/MNIST/raw\n",
            "\n"
          ]
        },
        {
          "output_type": "stream",
          "name": "stderr",
          "text": [
            "\n"
          ]
        }
      ]
    },
    {
      "cell_type": "code",
      "source": [
        "# Hyper Parameters\n",
        "input_size = 784\n",
        "num_classes = 10\n",
        "num_epochs = 5\n",
        "batch_size = 100\n",
        "learning_rate = 0.001"
      ],
      "metadata": {
        "id": "Pxv9eUKn6pBq"
      },
      "execution_count": 3,
      "outputs": []
    },
    {
      "cell_type": "code",
      "source": [
        "class LogisticRegression(nn.Module):\n",
        "    def __init__(self, input_size, num_classes):\n",
        "        super(LogisticRegression, self).__init__()\n",
        "        self.linear = nn.Linear(input_size, num_classes)\n",
        "\n",
        "    def forward(self, x):\n",
        "        out = self.linear(x)\n",
        "        return out"
      ],
      "metadata": {
        "id": "bmH9SViz6pEr"
      },
      "execution_count": 4,
      "outputs": []
    },
    {
      "cell_type": "code",
      "source": [
        "model = LogisticRegression(input_size, num_classes)"
      ],
      "metadata": {
        "id": "4PosK-2d6pHQ"
      },
      "execution_count": 5,
      "outputs": []
    },
    {
      "cell_type": "code",
      "source": [
        "criterion = nn.CrossEntropyLoss()\n",
        "optimizer = torch.optim.SGD(model.parameters(), lr = learning_rate)"
      ],
      "metadata": {
        "id": "t2lQOD-K6pKx"
      },
      "execution_count": 6,
      "outputs": []
    },
    {
      "cell_type": "markdown",
      "source": [
        "Now, we shall start the training. Here, we shall be performing the following tasks:\n",
        "\n",
        "Reset all gradients to 0.\n",
        "\n",
        "Make a forward pass.\n",
        "\n",
        "Calculate the loss.\n",
        "\n",
        "Perform backpropagation.\n",
        "\n",
        "Update all weights."
      ],
      "metadata": {
        "id": "C3kIDrMQ8TUb"
      }
    },
    {
      "cell_type": "code",
      "source": [
        "# Training the Model\n",
        "for epoch in range(num_epochs):\n",
        "    for i, (images, labels) in enumerate(train_loader):\n",
        "        images = Variable(images.view(-1, 28 * 28))\n",
        "        labels = Variable(labels)\n",
        "\n",
        "        # Forward + Backward + Optimize\n",
        "        optimizer.zero_grad()\n",
        "        outputs = model(images)\n",
        "        loss = criterion(outputs, labels)\n",
        "        loss.backward()\n",
        "        optimizer.step()\n",
        "\n",
        "        if (i + 1) % 100 == 0:\n",
        "            print('Epoch: [% d/% d], Step: [% d/% d], Loss: %.4f'\n",
        "                % (epoch + 1, num_epochs, i + 1,\n",
        "                    len(train_dataset) // batch_size, loss.item())) # Use loss.item() to get the scalar value\n",
        "\n",
        "# This code is modified by Susobhan Akhuli"
      ],
      "metadata": {
        "colab": {
          "base_uri": "https://localhost:8080/"
        },
        "id": "9aUY2ryS7l_A",
        "outputId": "80cdd22c-b89c-4dd9-cfda-ebbf1d582ea8"
      },
      "execution_count": 7,
      "outputs": [
        {
          "output_type": "stream",
          "name": "stdout",
          "text": [
            "Epoch: [ 1/ 5], Step: [ 100/ 600], Loss: 2.2017\n",
            "Epoch: [ 1/ 5], Step: [ 200/ 600], Loss: 2.1503\n",
            "Epoch: [ 1/ 5], Step: [ 300/ 600], Loss: 2.0487\n",
            "Epoch: [ 1/ 5], Step: [ 400/ 600], Loss: 1.9946\n",
            "Epoch: [ 1/ 5], Step: [ 500/ 600], Loss: 1.8926\n",
            "Epoch: [ 1/ 5], Step: [ 600/ 600], Loss: 1.7754\n",
            "Epoch: [ 1/ 5], Step: [ 700/ 600], Loss: 1.7533\n",
            "Epoch: [ 1/ 5], Step: [ 800/ 600], Loss: 1.7213\n",
            "Epoch: [ 1/ 5], Step: [ 900/ 600], Loss: 1.5410\n",
            "Epoch: [ 2/ 5], Step: [ 100/ 600], Loss: 1.5277\n",
            "Epoch: [ 2/ 5], Step: [ 200/ 600], Loss: 1.5034\n",
            "Epoch: [ 2/ 5], Step: [ 300/ 600], Loss: 1.5091\n",
            "Epoch: [ 2/ 5], Step: [ 400/ 600], Loss: 1.4384\n",
            "Epoch: [ 2/ 5], Step: [ 500/ 600], Loss: 1.3074\n",
            "Epoch: [ 2/ 5], Step: [ 600/ 600], Loss: 1.3177\n",
            "Epoch: [ 2/ 5], Step: [ 700/ 600], Loss: 1.2839\n",
            "Epoch: [ 2/ 5], Step: [ 800/ 600], Loss: 1.3410\n",
            "Epoch: [ 2/ 5], Step: [ 900/ 600], Loss: 1.2165\n",
            "Epoch: [ 3/ 5], Step: [ 100/ 600], Loss: 1.1995\n",
            "Epoch: [ 3/ 5], Step: [ 200/ 600], Loss: 1.1793\n",
            "Epoch: [ 3/ 5], Step: [ 300/ 600], Loss: 1.1517\n",
            "Epoch: [ 3/ 5], Step: [ 400/ 600], Loss: 1.1808\n",
            "Epoch: [ 3/ 5], Step: [ 500/ 600], Loss: 1.0463\n",
            "Epoch: [ 3/ 5], Step: [ 600/ 600], Loss: 1.0826\n",
            "Epoch: [ 3/ 5], Step: [ 700/ 600], Loss: 1.0520\n",
            "Epoch: [ 3/ 5], Step: [ 800/ 600], Loss: 0.9734\n",
            "Epoch: [ 3/ 5], Step: [ 900/ 600], Loss: 0.9081\n",
            "Epoch: [ 4/ 5], Step: [ 100/ 600], Loss: 0.9771\n",
            "Epoch: [ 4/ 5], Step: [ 200/ 600], Loss: 1.1219\n",
            "Epoch: [ 4/ 5], Step: [ 300/ 600], Loss: 1.0074\n",
            "Epoch: [ 4/ 5], Step: [ 400/ 600], Loss: 0.8919\n",
            "Epoch: [ 4/ 5], Step: [ 500/ 600], Loss: 0.9633\n",
            "Epoch: [ 4/ 5], Step: [ 600/ 600], Loss: 0.9754\n",
            "Epoch: [ 4/ 5], Step: [ 700/ 600], Loss: 0.7974\n",
            "Epoch: [ 4/ 5], Step: [ 800/ 600], Loss: 1.0275\n",
            "Epoch: [ 4/ 5], Step: [ 900/ 600], Loss: 0.9954\n",
            "Epoch: [ 5/ 5], Step: [ 100/ 600], Loss: 0.8360\n",
            "Epoch: [ 5/ 5], Step: [ 200/ 600], Loss: 1.0438\n",
            "Epoch: [ 5/ 5], Step: [ 300/ 600], Loss: 0.8523\n",
            "Epoch: [ 5/ 5], Step: [ 400/ 600], Loss: 0.8486\n",
            "Epoch: [ 5/ 5], Step: [ 500/ 600], Loss: 0.8685\n",
            "Epoch: [ 5/ 5], Step: [ 600/ 600], Loss: 0.5716\n",
            "Epoch: [ 5/ 5], Step: [ 700/ 600], Loss: 0.8001\n",
            "Epoch: [ 5/ 5], Step: [ 800/ 600], Loss: 0.7871\n",
            "Epoch: [ 5/ 5], Step: [ 900/ 600], Loss: 0.7082\n"
          ]
        }
      ]
    },
    {
      "cell_type": "code",
      "source": [
        "# Test the Model\n",
        "correct = 0\n",
        "total = 0\n",
        "for images, labels in test_loader:\n",
        "    images = Variable(images.view(-1, 28 * 28))\n",
        "    outputs = model(images)\n",
        "    _, predicted = torch.max(outputs.data, 1)\n",
        "    total += labels.size(0)\n",
        "    correct += (predicted == labels).sum()\n",
        "\n",
        "print('Accuracy of the model on the 10000 test images: % d %%' % (\n",
        "            100 * correct / total))"
      ],
      "metadata": {
        "colab": {
          "base_uri": "https://localhost:8080/"
        },
        "id": "6-gKCjdM7mB3",
        "outputId": "7bbc9d9c-8b6d-4b3e-b2b3-830bc94d3f96"
      },
      "execution_count": 8,
      "outputs": [
        {
          "output_type": "stream",
          "name": "stdout",
          "text": [
            "Accuracy of the model on the 10000 test images:  84 %\n"
          ]
        }
      ]
    },
    {
      "cell_type": "code",
      "source": [
        "import torch\n",
        "import torch.nn as nn\n",
        "import torchvision.datasets as dsets\n",
        "import torchvision.transforms as transforms\n",
        "from torch.autograd import Variable\n",
        "\n",
        "\n",
        "# MNIST Dataset (Images and Labels)\n",
        "train_dataset = dsets.MNIST(root ='./data',\n",
        "                            train = True,\n",
        "                            transform = transforms.ToTensor(),\n",
        "                            download = True)\n",
        "\n",
        "test_dataset = dsets.MNIST(root ='./data',\n",
        "                        train = False,\n",
        "                        transform = transforms.ToTensor())\n",
        "\n",
        "# Dataset Loader (Input Pipeline)\n",
        "train_loader = torch.utils.data.DataLoader(dataset = train_dataset,\n",
        "                                        batch_size = batch_size,\n",
        "                                        shuffle = True)\n",
        "\n",
        "test_loader = torch.utils.data.DataLoader(dataset = test_dataset,\n",
        "                                        batch_size = batch_size,\n",
        "                                        shuffle = False)\n",
        "\n",
        "# Hyper Parameters\n",
        "input_size = 784\n",
        "num_classes = 10\n",
        "num_epochs = 5\n",
        "batch_size = 100\n",
        "learning_rate = 0.001\n",
        "\n",
        "# Model\n",
        "class LogisticRegression(nn.Module):\n",
        "    def __init__(self, input_size, num_classes):\n",
        "        super(LogisticRegression, self).__init__()\n",
        "        self.linear = nn.Linear(input_size, num_classes)\n",
        "\n",
        "    def forward(self, x):\n",
        "        out = self.linear(x)\n",
        "        return out\n",
        "\n",
        "\n",
        "model = LogisticRegression(input_size, num_classes)\n",
        "\n",
        "# Loss and Optimizer\n",
        "# Softmax is internally computed.\n",
        "# Set parameters to be updated.\n",
        "criterion = nn.CrossEntropyLoss()\n",
        "optimizer = torch.optim.SGD(model.parameters(), lr = learning_rate)\n",
        "\n",
        "# Training the Model\n",
        "for epoch in range(num_epochs):\n",
        "    for i, (images, labels) in enumerate(train_loader):\n",
        "        images = Variable(images.view(-1, 28 * 28))\n",
        "        labels = Variable(labels)\n",
        "\n",
        "        # Forward + Backward + Optimize\n",
        "        optimizer.zero_grad()\n",
        "        outputs = model(images)\n",
        "        loss = criterion(outputs, labels)\n",
        "        loss.backward()\n",
        "        optimizer.step()\n",
        "\n",
        "        if (i + 1) % 100 == 0:\n",
        "            print('Epoch: [% d/% d], Step: [% d/% d], Loss: %.4f'\n",
        "                % (epoch + 1, num_epochs, i + 1,\n",
        "                    len(train_dataset) // batch_size, loss.item()))\n",
        "\n",
        "# Test the Model\n",
        "correct = 0\n",
        "total = 0\n",
        "for images, labels in test_loader:\n",
        "    images = Variable(images.view(-1, 28 * 28))\n",
        "    outputs = model(images)\n",
        "    _, predicted = torch.max(outputs.data, 1)\n",
        "    total += labels.size(0)\n",
        "    correct += (predicted == labels).sum()\n",
        "\n",
        "print('Accuracy of the model on the 10000 test images: % d %%' % (\n",
        "            100 * correct / total))\n",
        "\n",
        "# This code is modified by Susobhan Akhuli"
      ],
      "metadata": {
        "colab": {
          "base_uri": "https://localhost:8080/"
        },
        "id": "2s4I3LsF7mEd",
        "outputId": "1e1af585-6c27-448f-ee68-b22a505203e3"
      },
      "execution_count": 9,
      "outputs": [
        {
          "output_type": "stream",
          "name": "stdout",
          "text": [
            "Epoch: [ 1/ 5], Step: [ 100/ 600], Loss: 2.2248\n",
            "Epoch: [ 1/ 5], Step: [ 200/ 600], Loss: 2.1351\n",
            "Epoch: [ 1/ 5], Step: [ 300/ 600], Loss: 2.0366\n",
            "Epoch: [ 1/ 5], Step: [ 400/ 600], Loss: 1.9530\n",
            "Epoch: [ 1/ 5], Step: [ 500/ 600], Loss: 1.8607\n",
            "Epoch: [ 1/ 5], Step: [ 600/ 600], Loss: 1.7914\n",
            "Epoch: [ 2/ 5], Step: [ 100/ 600], Loss: 1.7493\n",
            "Epoch: [ 2/ 5], Step: [ 200/ 600], Loss: 1.6434\n",
            "Epoch: [ 2/ 5], Step: [ 300/ 600], Loss: 1.5930\n",
            "Epoch: [ 2/ 5], Step: [ 400/ 600], Loss: 1.6271\n",
            "Epoch: [ 2/ 5], Step: [ 500/ 600], Loss: 1.5155\n",
            "Epoch: [ 2/ 5], Step: [ 600/ 600], Loss: 1.4831\n",
            "Epoch: [ 3/ 5], Step: [ 100/ 600], Loss: 1.3527\n",
            "Epoch: [ 3/ 5], Step: [ 200/ 600], Loss: 1.4568\n",
            "Epoch: [ 3/ 5], Step: [ 300/ 600], Loss: 1.4008\n",
            "Epoch: [ 3/ 5], Step: [ 400/ 600], Loss: 1.3160\n",
            "Epoch: [ 3/ 5], Step: [ 500/ 600], Loss: 1.3605\n",
            "Epoch: [ 3/ 5], Step: [ 600/ 600], Loss: 1.3066\n",
            "Epoch: [ 4/ 5], Step: [ 100/ 600], Loss: 1.1922\n",
            "Epoch: [ 4/ 5], Step: [ 200/ 600], Loss: 1.2021\n",
            "Epoch: [ 4/ 5], Step: [ 300/ 600], Loss: 1.1250\n",
            "Epoch: [ 4/ 5], Step: [ 400/ 600], Loss: 1.1767\n",
            "Epoch: [ 4/ 5], Step: [ 500/ 600], Loss: 1.0416\n",
            "Epoch: [ 4/ 5], Step: [ 600/ 600], Loss: 1.0662\n",
            "Epoch: [ 5/ 5], Step: [ 100/ 600], Loss: 1.1047\n",
            "Epoch: [ 5/ 5], Step: [ 200/ 600], Loss: 0.9844\n",
            "Epoch: [ 5/ 5], Step: [ 300/ 600], Loss: 1.1188\n",
            "Epoch: [ 5/ 5], Step: [ 400/ 600], Loss: 1.0527\n",
            "Epoch: [ 5/ 5], Step: [ 500/ 600], Loss: 1.0647\n",
            "Epoch: [ 5/ 5], Step: [ 600/ 600], Loss: 0.9866\n",
            "Accuracy of the model on the 10000 test images:  82 %\n"
          ]
        }
      ]
    },
    {
      "cell_type": "code",
      "source": [],
      "metadata": {
        "id": "K4fqAVnE7mH2"
      },
      "execution_count": null,
      "outputs": []
    },
    {
      "cell_type": "code",
      "source": [],
      "metadata": {
        "id": "LFF3TwFv6pPM"
      },
      "execution_count": null,
      "outputs": []
    }
  ]
}